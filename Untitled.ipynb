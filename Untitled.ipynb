{
 "cells": [
  {
   "cell_type": "code",
   "execution_count": 1,
   "id": "48dbc3dd-e609-4176-92a6-09b92e8b0ea7",
   "metadata": {},
   "outputs": [],
   "source": [
    "import pymongo"
   ]
  },
  {
   "cell_type": "code",
   "execution_count": 5,
   "id": "188a8e86-e0eb-4982-a140-8c4556479d4f",
   "metadata": {},
   "outputs": [],
   "source": [
    "#connect python to mongodb\n",
    "dbcon = pymongo.MongoClient(\"mongodb://127.0.0.1:27017\") "
   ]
  },
  {
   "cell_type": "code",
   "execution_count": 7,
   "id": "6601b863-7224-4afa-9c83-9c53b78ea66b",
   "metadata": {},
   "outputs": [
    {
     "ename": "TypeError",
     "evalue": "'Database' object is not callable",
     "output_type": "error",
     "traceback": [
      "\u001b[1;31m---------------------------------------------------------------------------\u001b[0m",
      "\u001b[1;31mTypeError\u001b[0m                                 Traceback (most recent call last)",
      "Cell \u001b[1;32mIn[7], line 1\u001b[0m\n\u001b[1;32m----> 1\u001b[0m dbcon\u001b[38;5;241m.\u001b[39mlist_database_name()\n",
      "\u001b[1;31mTypeError\u001b[0m: 'Database' object is not callable"
     ]
    }
   ],
   "source": [
    "dbcon.list_database_name()"
   ]
  },
  {
   "cell_type": "code",
   "execution_count": 9,
   "id": "b627cd76-29e6-496d-8cfc-23b137d8a327",
   "metadata": {},
   "outputs": [],
   "source": [
    "dbname = dbcon[\"INIT\"]"
   ]
  },
  {
   "cell_type": "code",
   "execution_count": 11,
   "id": "1e15e526-c705-4b9a-9ba5-5d81bc9d76fa",
   "metadata": {},
   "outputs": [],
   "source": [
    " dbcollection = dbname[\"company\"]"
   ]
  },
  {
   "cell_type": "code",
   "execution_count": 13,
   "id": "95a4f216-14f3-444a-9807-88acfdf4ebca",
   "metadata": {},
   "outputs": [
    {
     "data": {
      "text/plain": [
       "InsertOneResult(ObjectId('66977bb5dc63642b4e508054'), acknowledged=True)"
      ]
     },
     "execution_count": 13,
     "metadata": {},
     "output_type": "execute_result"
    }
   ],
   "source": [
    "dbcollection.insert_one(\n",
    "     {\n",
    "         \"cname\":\"ibm\",\n",
    "         \"locaation\":\"pune\"\n",
    "     }\n",
    "         \n",
    "\n",
    "\n",
    "\n",
    ")"
   ]
  },
  {
   "cell_type": "code",
   "execution_count": 17,
   "id": "83c47022-a76e-415d-84e8-2b132c65075e",
   "metadata": {},
   "outputs": [
    {
     "data": {
      "text/plain": [
       "{'_id': ObjectId('66977bb5dc63642b4e508054'),\n",
       " 'cname': 'ibm',\n",
       " 'locaation': 'pune'}"
      ]
     },
     "execution_count": 17,
     "metadata": {},
     "output_type": "execute_result"
    }
   ],
   "source": [
    "dbcollection.find_one()"
   ]
  },
  {
   "cell_type": "code",
   "execution_count": 15,
   "id": "82c5ef10-041b-488d-91d1-3022064a85d1",
   "metadata": {},
   "outputs": [
    {
     "data": {
      "text/plain": [
       "<pymongo.cursor.Cursor at 0x21441bab530>"
      ]
     },
     "execution_count": 15,
     "metadata": {},
     "output_type": "execute_result"
    }
   ],
   "source": [
    "dbcollection.find()"
   ]
  },
  {
   "cell_type": "code",
   "execution_count": null,
   "id": "1b5d8518-b373-48f4-9d19-9efb3c6db7e9",
   "metadata": {},
   "outputs": [],
   "source": []
  }
 ],
 "metadata": {
  "kernelspec": {
   "display_name": "Python 3 (ipykernel)",
   "language": "python",
   "name": "python3"
  },
  "language_info": {
   "codemirror_mode": {
    "name": "ipython",
    "version": 3
   },
   "file_extension": ".py",
   "mimetype": "text/x-python",
   "name": "python",
   "nbconvert_exporter": "python",
   "pygments_lexer": "ipython3",
   "version": "3.12.4"
  }
 },
 "nbformat": 4,
 "nbformat_minor": 5
}
